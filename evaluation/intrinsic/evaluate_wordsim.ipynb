{
 "cells": [
  {
   "cell_type": "code",
   "execution_count": 4,
   "id": "c28861f9",
   "metadata": {},
   "outputs": [
    {
     "name": "stdout",
     "output_type": "stream",
     "text": [
      "--- loading data...\n",
      "#words =  353\n",
      "#scores =  353\n",
      "--- checking...\n",
      "[[ 0.29541126  6.77      ]\n",
      " [ 0.50994172  7.35      ]\n",
      " [ 1.         10.        ]\n",
      " [ 0.37465086  7.46      ]\n",
      " [ 0.43067948  7.62      ]\n",
      " [ 0.56290217  7.58      ]\n",
      " [ 0.36174298  5.77      ]\n",
      " [ 0.4859514   7.5       ]\n",
      " [ 0.72354719  6.77      ]\n",
      " [ 0.5314237   7.42      ]\n",
      " [ 0.37794633  6.85      ]]\n",
      "total, valid,spearman_rank_coeff,sp_rho  353 232 0.6477005798034899 5.527800714848622e-29\n"
     ]
    }
   ],
   "source": [
    "import numpy as np\n",
    "import scipy\n",
    "from scipy.stats import *\n",
    "import sys\n",
    "\n",
    "embeddingSource =\"../visualization/SPINE_glove.txt\"\n",
    "embeddings = \"\"\n",
    "\n",
    "\n",
    "def loadData():\n",
    "\tret = {}\n",
    "\tdata = open(embeddingSource,\"r\").readlines()\n",
    "\tfor row in data:\n",
    "\t\tword = row.strip().split(' ')[0]\n",
    "\t\tvals = row.strip().split(' ')[1:]\n",
    "\t\tvals = np.array( [float(val) for val in vals] )\n",
    "\t\tret[word] = vals\n",
    "\treturn ret\n",
    "\n",
    "\n",
    "def loadTestData():\n",
    "\ttmp = open(\"word_sim.tab\",\"r\").readlines()\n",
    "\tdata = {}\n",
    "\tdata['words'] = [ row.strip().split('\\t')[0:2] for i,row in enumerate(tmp) if i!=0 ]\n",
    "\tdata['sim_scores'] = [ float(row.strip().split('\\t')[2]) for i,row in enumerate(tmp) if i!=0  ]\n",
    "# \tprint(data)\n",
    "\treturn data\n",
    "\n",
    "def getSimilarity(e1, e2):\n",
    "\t# cosine similarity\n",
    "\treturn np.sum(e1 * e2)/( np.sqrt(np.sum(e1*e1)) * np.sqrt(np.sum(e2*e2)))\n",
    "\n",
    "def getSimilarityScoreForWords(w1,w2):\n",
    "\tglobal embeddings\n",
    "\t#print w1\n",
    "\t#print embeddings\n",
    "\tif (w2 not in embeddings) or (w1 not in embeddings) :\n",
    "\t\treturn -1\n",
    "\tfinalVector_w1 = embeddings[w1]\n",
    "\tfinalVector_w2 = embeddings[w2]\n",
    "\treturn getSimilarity(finalVector_w1, finalVector_w2)\n",
    "\n",
    "def evaluate():\n",
    "\tglobal embeddings\n",
    "\tprint(\"--- loading data...\")\n",
    "\tembeddings = loadData()\n",
    "\tdata = loadTestData()\n",
    "\tprint(\"#words = \", len(data['words']))\n",
    "\tprint(\"#scores = \", len(data['sim_scores']))\n",
    "\tprint(\"--- checking...\")\n",
    "\tpred_scores = []\n",
    "\tinvalid = 0\n",
    "\tpred_scores = [ [getSimilarityScoreForWords(w1w2[0],w1w2[1]),human_score] for w1w2,human_score in zip(data['words'], data['sim_scores']) ]\t\t\t\n",
    "\tpred_scores = np.array( [ val for val in pred_scores if val[0]!=-1 ] )\n",
    "# \tprint(pred_scores.shape)\n",
    "\tprint(pred_scores[0:11])\n",
    "\tspearman_rank_coeff,sp_rho = spearmanr( pred_scores[:,0], pred_scores[:,1] )\n",
    "\tprint(\"total, valid,spearman_rank_coeff,sp_rho \", len(data['words']),len(pred_scores), spearman_rank_coeff,sp_rho)\n",
    "\t\t\n",
    "evaluate()\n"
   ]
  },
  {
   "cell_type": "code",
   "execution_count": null,
   "id": "c0b1bfb2",
   "metadata": {},
   "outputs": [],
   "source": []
  }
 ],
 "metadata": {
  "kernelspec": {
   "display_name": "Python 3 (ipykernel)",
   "language": "python",
   "name": "python3"
  },
  "language_info": {
   "codemirror_mode": {
    "name": "ipython",
    "version": 3
   },
   "file_extension": ".py",
   "mimetype": "text/x-python",
   "name": "python",
   "nbconvert_exporter": "python",
   "pygments_lexer": "ipython3",
   "version": "3.9.7"
  }
 },
 "nbformat": 4,
 "nbformat_minor": 5
}
