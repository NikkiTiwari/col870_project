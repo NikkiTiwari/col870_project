{
 "cells": [
  {
   "cell_type": "code",
   "execution_count": 1,
   "metadata": {},
   "outputs": [],
   "source": [
    "import visualize_online "
   ]
  },
  {
   "cell_type": "code",
   "execution_count": 2,
   "metadata": {},
   "outputs": [
    {
     "name": "stderr",
     "output_type": "stream",
     "text": [
      "100%|████████████████████████████████████| 15000/15000 [00:15<00:00, 989.36it/s]\n"
     ]
    },
    {
     "name": "stdout",
     "output_type": "stream",
     "text": [
      "Sparsity = 87.79586\n",
      "done loading vectors\n"
     ]
    }
   ],
   "source": [
    "# load SPINE vectors (available at https://tinyurl.com/SPINE-VECTORS)\n",
    "visualize_online.load_vectors(\"SPINE_glove.txt\")"
   ]
  },
  {
   "cell_type": "code",
   "execution_count": 16,
   "metadata": {},
   "outputs": [],
   "source": [
    "# precompute top dimensions\n",
    "visualize_online.load_top_dimensions(10)"
   ]
  },
  {
   "cell_type": "markdown",
   "metadata": {},
   "source": [
    "Now lets visualize the vectors, and interpret individual dimensions of a few words. Since the vectors are sparse, we look at the dimensions where this word was (most) active in. For these select dimensions, we find what other words are active."
   ]
  },
  {
   "cell_type": "code",
   "execution_count": 5,
   "metadata": {
    "scrolled": false
   },
   "outputs": [
    {
     "name": "stdout",
     "output_type": "stream",
     "text": [
      " -----------------------------------------------------\n",
      "Word of interest =  intelligence\n",
      "The contribution of the word 'intelligence' in dimension 575 = 0.857463\n",
      "Following are the top words in dimension 575 along with their contributions\n",
      "[(1.0, 'libby'), (1.0, 'leaked'), (1.0, 'confidential'), (0.877596, 'fbi'), (0.860398, 'classified'), (0.859306, 'memo'), (0.858536, 'leak'), (0.857463, 'intelligence'), (0.839776, 'informant'), (0.835968, 'secrets')]\n",
      "The contribution of the word 'intelligence' in dimension 482 = 0.738917\n",
      "Following are the top words in dimension 482 along with their contributions\n",
      "[(1.0, 'warships'), (1.0, 'stealth'), (1.0, 'reconnaissance'), (1.0, 'planes'), (1.0, 'pentagon'), (1.0, 'missile'), (1.0, 'aircraft'), (1.0, 'afghanistan'), (0.996355, 'fighter'), (0.994009, 'drone')]\n",
      "The contribution of the word 'intelligence' in dimension 272 = 0.733774\n",
      "Following are the top words in dimension 272 along with their contributions\n",
      "[(1.0, 'police'), (1.0, 'officers'), (1.0, 'lt.'), (1.0, 'commander'), (0.989962, 'detective'), (0.980658, 'brig.'), (0.9387, 'chief'), (0.90963, 'commandant'), (0.908764, 'kgb'), (0.895963, 'sergeant')]\n",
      "The contribution of the word 'intelligence' in dimension 648 = 0.599943\n",
      "Following are the top words in dimension 648 along with their contributions\n",
      "[(0.944636, 'plotting'), (0.942302, 'mafia'), (0.929367, 'bribe'), (0.928841, 'indicted'), (0.903964, 'bribery'), (0.897165, 'plot'), (0.879948, 'convicted'), (0.848832, 'assassination'), (0.843293, 'conspiracy'), (0.834164, 'jailed')]\n",
      "The contribution of the word 'intelligence' in dimension 745 = 0.520636\n",
      "Following are the top words in dimension 745 along with their contributions\n",
      "[(1.0, 'institute'), (0.943532, 'psychiatry'), (0.913642, 'sciences'), (0.897935, 'physics'), (0.87457, 'laboratory'), (0.861861, 'research'), (0.855285, 'professor'), (0.837385, 'genetics'), (0.824483, 'scientist'), (0.818096, 'physicist')]\n"
     ]
    }
   ],
   "source": [
    "visualize_online.find_top_participating_dimensions(\"intelligence\", 5)"
   ]
  },
  {
   "cell_type": "markdown",
   "metadata": {},
   "source": [
    "For the word _remote_, we see that different senses are captured in different dimensions \n",
    "\n",
    "- Remote areas -- provinces, regions, territories etc.\n",
    "- Remote activities -- skiing, camping, hiking etc.\n",
    "- Electronic remote -- voltage, sensors, transmission etc.\n",
    "\n",
    "Further, lets try a few more examples."
   ]
  },
  {
   "cell_type": "code",
   "execution_count": 6,
   "metadata": {},
   "outputs": [
    {
     "name": "stdout",
     "output_type": "stream",
     "text": [
      " -----------------------------------------------------\n",
      "Word of interest =  science\n",
      "The contribution of the word 'science' in dimension 486 = 0.816299\n",
      "Following are the top words in dimension 486 along with their contributions\n",
      "[(1.0, 'university'), (1.0, 'undergraduate'), (1.0, 'sociology'), (1.0, 'professor'), (1.0, 'phd'), (1.0, 'humanities'), (1.0, 'graduate'), (1.0, 'doctorate'), (1.0, 'degree'), (1.0, 'bachelor')]\n",
      "The contribution of the word 'science' in dimension 635 = 0.668243\n",
      "Following are the top words in dimension 635 along with their contributions\n",
      "[(1.0, 'sciences'), (1.0, 'honorary'), (1.0, 'faculty'), (1.0, 'doctorate'), (1.0, 'chemistry'), (1.0, 'bachelor'), (1.0, '1893'), (1.0, '1892'), (1.0, '1891'), (1.0, '1887')]\n",
      "The contribution of the word 'science' in dimension 745 = 0.612640\n",
      "Following are the top words in dimension 745 along with their contributions\n",
      "[(1.0, 'institute'), (0.943532, 'psychiatry'), (0.913642, 'sciences'), (0.897935, 'physics'), (0.87457, 'laboratory'), (0.861861, 'research'), (0.855285, 'professor'), (0.837385, 'genetics'), (0.824483, 'scientist'), (0.818096, 'physicist')]\n",
      "The contribution of the word 'science' in dimension 518 = 0.574628\n",
      "Following are the top words in dimension 518 along with their contributions\n",
      "[(0.989433, 'machinery'), (0.984088, 'plastics'), (0.953205, 'electronics'), (0.936411, 'industries'), (0.90491, 'sectors'), (0.888523, 'appliances'), (0.886905, 'miscellaneous'), (0.865031, 'agriculture'), (0.821493, 'sciences'), (0.820733, 'engineering')]\n",
      "The contribution of the word 'science' in dimension 939 = 0.539502\n",
      "Following are the top words in dimension 939 along with their contributions\n",
      "[(0.919611, 'philosophical'), (0.774294, 'topics'), (0.745954, 'theories'), (0.735126, 'philosophy'), (0.691797, 'explores'), (0.691462, 'theoretical'), (0.68669, 'biblical'), (0.686139, 'writings'), (0.68276, 'mysteries'), (0.664075, 'teachings')]\n"
     ]
    }
   ],
   "source": [
    "visualize_online.find_top_participating_dimensions(\"science\", 5)"
   ]
  },
  {
   "cell_type": "code",
   "execution_count": 7,
   "metadata": {},
   "outputs": [
    {
     "name": "stdout",
     "output_type": "stream",
     "text": [
      " -----------------------------------------------------\n",
      "Word of interest =  residents\n",
      "The contribution of the word 'residents' in dimension 83 = 1.000000\n",
      "Following are the top words in dimension 83 along with their contributions\n",
      "[(1.0, 'young'), (1.0, 'whom'), (1.0, 'themselves'), (1.0, 'students'), (1.0, 'residents'), (1.0, 'parents'), (1.0, 'members'), (1.0, 'friends'), (1.0, 'fans'), (1.0, 'americans')]\n",
      "The contribution of the word 'residents' in dimension 959 = 0.578546\n",
      "Following are the top words in dimension 959 along with their contributions\n",
      "[(1.0, 'wounded'), (1.0, 'total'), (1.0, 'people'), (1.0, 'number'), (1.0, 'nine'), (1.0, 'least'), (1.0, 'killed'), (1.0, 'injured'), (1.0, '70'), (1.0, '100')]\n",
      "The contribution of the word 'residents' in dimension 862 = 0.557699\n",
      "Following are the top words in dimension 862 along with their contributions\n",
      "[(1.0, 'redevelopment'), (1.0, 'borough'), (0.983881, 'zoning'), (0.972571, 'neighborhoods'), (0.967753, 'urban'), (0.943908, 'boroughs'), (0.855015, 'residential'), (0.850603, 'neighborhood'), (0.84964, 'housing'), (0.848653, 'tenants')]\n",
      "The contribution of the word 'residents' in dimension 363 = 0.405057\n",
      "Following are the top words in dimension 363 along with their contributions\n",
      "[(1.0, 'wounding'), (1.0, 'wounded'), (1.0, 'gunmen'), (0.954116, 'convoy'), (0.953344, 'gunfire'), (0.944855, 'killed'), (0.934157, 'grenades'), (0.92345, 'clashes'), (0.921332, 'baghdad'), (0.911051, 'ambushed')]\n",
      "The contribution of the word 'residents' in dimension 529 = 0.396794\n",
      "Following are the top words in dimension 529 along with their contributions\n",
      "[(0.871024, 'tents'), (0.768254, 'rations'), (0.652309, 'homeless'), (0.62604, 'needy'), (0.61288, 'shelters'), (0.56642, 'food'), (0.563817, 'shelter'), (0.563103, 'belongings'), (0.523557, 'survivors'), (0.512051, 'medicines')]\n"
     ]
    }
   ],
   "source": [
    "visualize_online.find_top_participating_dimensions(\"residents\", 5)"
   ]
  },
  {
   "cell_type": "markdown",
   "metadata": {},
   "source": [
    "For the word _internet_, we again observe (and interpret) interesting dimensions, relating to\n",
    "\n",
    "- popular websites on internet: youtube, myspace, twitter etc.\n",
    "- Instant messaging/communication: chat, email, mail etc.\n",
    "- networking terms related to internet: wireless, telephone, cellular, broadband etc."
   ]
  },
  {
   "cell_type": "markdown",
   "metadata": {},
   "source": [
    "# spine embedding generated from 300-dim word2vec"
   ]
  },
  {
   "cell_type": "code",
   "execution_count": 12,
   "metadata": {
    "scrolled": false
   },
   "outputs": [
    {
     "name": "stderr",
     "output_type": "stream",
     "text": [
      "100%|███████████████████████████████████| 15000/15000 [00:14<00:00, 1065.50it/s]"
     ]
    },
    {
     "name": "stdout",
     "output_type": "stream",
     "text": [
      "Sparsity = 93.63407333333333\n",
      "done loading vectors\n",
      " -----------------------------------------------------\n",
      "Word of interest =  intelligence\n",
      "The contribution of the word 'intelligence' in dimension 126 = 0.259149\n",
      "Following are the top words in dimension 126 along with their contributions\n",
      "[(0.692847, 'confidential'), (0.604553, 'secrets'), (0.477451, 'privacy'), (0.475694, 'secrecy'), (0.440114, 'secret'), (0.429814, 'leaked'), (0.41517, 'encryption'), (0.379452, 'hacker'), (0.362801, 'spying'), (0.350274, 'spy')]\n",
      "The contribution of the word 'intelligence' in dimension 373 = 0.254489\n",
      "Following are the top words in dimension 373 along with their contributions\n",
      "[(0.608453, 'bombings'), (0.578556, 'plot'), (0.567095, 'plotting'), (0.541591, 'terrorist'), (0.466947, 'espionage'), (0.461198, 'terror'), (0.460705, 'plotted'), (0.460014, 'assassination'), (0.45651, 'plots'), (0.437507, 'bomb')]\n",
      "The contribution of the word 'intelligence' in dimension 351 = 0.161416\n",
      "Following are the top words in dimension 351 along with their contributions\n",
      "[(0.408696, 'statistical'), (0.404902, 'statistics'), (0.394729, 'measurements'), (0.391682, 'analysis'), (0.390851, 'calculate'), (0.365541, 'calculations'), (0.364624, 'accurate'), (0.357602, 'calculation'), (0.350231, 'data'), (0.342966, 'comparisons')]\n",
      "The contribution of the word 'intelligence' in dimension 250 = 0.158742\n",
      "Following are the top words in dimension 250 along with their contributions\n",
      "[(0.589924, 'obama'), (0.473045, 'cheney'), (0.440059, 'clinton'), (0.376801, 'congressional'), (0.354728, 'iraq'), (0.319052, 'senator'), (0.313614, 'mccain'), (0.312311, 'troop'), (0.307993, 'gop'), (0.307377, 'washington')]\n",
      "The contribution of the word 'intelligence' in dimension 717 = 0.150282\n",
      "Following are the top words in dimension 717 along with their contributions\n",
      "[(0.196892, 'manpower'), (0.188469, 'patrols'), (0.18457, 'coordination'), (0.169818, 'insurgency'), (0.169278, 'cyber'), (0.163525, 'coordinate'), (0.162429, 'coordinated'), (0.158976, 'terrorism'), (0.156738, 'expeditionary'), (0.154828, 'battalions')]\n",
      " -----------------------------------------------------\n",
      "Word of interest =  science\n",
      "The contribution of the word 'science' in dimension 206 = 0.341808\n",
      "Following are the top words in dimension 206 along with their contributions\n",
      "[(1.0, 'doctorate'), (0.925088, 'professor'), (0.868356, 'doctoral'), (0.787881, 'lecturer'), (0.73521, 'sociology'), (0.679905, 'anthropology'), (0.665771, 'professors'), (0.656905, 'dean'), (0.644319, 'undergraduate'), (0.612277, 'dissertation')]\n",
      "The contribution of the word 'science' in dimension 954 = 0.329959\n",
      "Following are the top words in dimension 954 along with their contributions\n",
      "[(0.792442, 'algebra'), (0.644488, 'exam'), (0.638213, 'courses'), (0.626758, 'exams'), (0.605511, 'math'), (0.586214, 'curriculum'), (0.562832, 'mathematics'), (0.542183, 'classes'), (0.539728, 'diploma'), (0.506845, 'teaches')]\n",
      "The contribution of the word 'science' in dimension 334 = 0.212372\n",
      "Following are the top words in dimension 334 along with their contributions\n",
      "[(0.26864, 'sciences'), (0.250766, 'biology'), (0.250609, 'engineering'), (0.240491, 'geology'), (0.220268, 'veterinary'), (0.212372, 'science'), (0.211838, 'agriculture'), (0.211291, 'physics'), (0.209162, 'aerospace'), (0.204978, 'astronomy')]\n",
      "The contribution of the word 'science' in dimension 863 = 0.190043\n",
      "Following are the top words in dimension 863 along with their contributions\n",
      "[(0.938625, 'patents'), (0.844754, 'patent'), (0.594294, 'inventions'), (0.473468, 'pharmaceutical'), (0.451233, 'patented'), (0.444887, 'royalties'), (0.437565, 'inventor'), (0.422462, 'collaborations'), (0.403075, 'innovation'), (0.393665, 'discoveries')]\n",
      "The contribution of the word 'science' in dimension 138 = 0.173772\n",
      "Following are the top words in dimension 138 along with their contributions\n",
      "[(0.400093, 'robots'), (0.365348, 'robotic'), (0.336592, 'algorithms'), (0.31857, 'robot'), (0.308856, 'imaging'), (0.302075, 'computational'), (0.289543, 'computerized'), (0.275038, 'neural'), (0.271736, 'machines'), (0.264544, 'technologies')]\n",
      " -----------------------------------------------------\n",
      "Word of interest =  residents\n",
      "The contribution of the word 'residents' in dimension 152 = 0.636624\n",
      "Following are the top words in dimension 152 along with their contributions\n",
      "[(0.889577, 'viewers'), (0.826028, 'listeners'), (0.748886, 'travelers'), (0.718482, 'readers'), (0.701529, 'commuters'), (0.692269, 'consumers'), (0.684504, 'fans'), (0.67035, 'audiences'), (0.662655, 'devotees'), (0.656253, 'patrons')]\n",
      "The contribution of the word 'residents' in dimension 959 = 0.327167\n",
      "Following are the top words in dimension 959 along with their contributions\n",
      "[(0.472924, 'climbers'), (0.457502, 'wrestlers'), (0.444738, 'astronauts'), (0.434926, 'cadets'), (0.431367, 'swimmers'), (0.427198, 'skaters'), (0.424545, 'sailors'), (0.419902, 'airmen'), (0.41738, 'pilots'), (0.415792, 'inmates')]\n",
      "The contribution of the word 'residents' in dimension 128 = 0.281138\n",
      "Following are the top words in dimension 128 along with their contributions\n",
      "[(0.414714, 'annexation'), (0.368248, 'townships'), (0.339527, 'annexed'), (0.32571, 'suburb'), (0.314453, 'unincorporated'), (0.293444, 'headquartered'), (0.29279, 'mayor'), (0.281138, 'residents'), (0.272997, 'neighborhoods'), (0.271098, 'suburbs')]\n",
      "The contribution of the word 'residents' in dimension 842 = 0.239433\n",
      "Following are the top words in dimension 842 along with their contributions\n",
      "[(0.737633, 'commissioners'), (0.69534, 'township'), (0.617129, 'townships'), (0.579398, 'county'), (0.572287, 'ordinance'), (0.519771, 'annexation'), (0.508809, 'levy'), (0.48494, 'borough'), (0.484603, 'sheriff'), (0.472199, 'municipalities')]\n",
      "The contribution of the word 'residents' in dimension 325 = 0.140841\n",
      "Following are the top words in dimension 325 along with their contributions\n",
      "[(0.373727, 'incomes'), (0.363458, 'disabilities'), (0.328084, 'deduction'), (0.313569, 'unemployed'), (0.309681, 'mortgage'), (0.298009, 'homes'), (0.294926, 'homeless'), (0.290278, 'disability'), (0.288704, 'dwellings'), (0.288237, 'housing')]\n"
     ]
    },
    {
     "name": "stderr",
     "output_type": "stream",
     "text": [
      "\n"
     ]
    }
   ],
   "source": [
    "# spine_word2vec\n",
    "visualize_online.load_vectors(\"SPINE_word2vec.txt\")\n",
    "visualize_online.load_top_dimensions(10)\n",
    "visualize_online.find_top_participating_dimensions(\"intelligence\", 5)\n",
    "visualize_online.find_top_participating_dimensions(\"science\", 5)\n",
    "visualize_online.find_top_participating_dimensions(\"residents\", 5)"
   ]
  },
  {
   "cell_type": "code",
   "execution_count": 11,
   "metadata": {},
   "outputs": [
    {
     "name": "stdout",
     "output_type": "stream",
     "text": [
      " -----------------------------------------------------\n",
      "Word of interest =  internet\n",
      "The contribution of the word 'internet' in dimension 995 = 0.464216\n",
      "Following are the top words in dimension 995 along with their contributions\n",
      "[(0.74623, 'hacker'), (0.541265, 'spam'), (0.506811, 'pornographic'), (0.489745, 'cyber'), (0.465369, 'pornography'), (0.464216, 'internet'), (0.416136, 'malicious'), (0.40747, 'censorship'), (0.394677, 'worm'), (0.393068, 'myspace')]\n",
      "The contribution of the word 'internet' in dimension 555 = 0.233811\n",
      "Following are the top words in dimension 555 along with their contributions\n",
      "[(0.699111, 'browser'), (0.691748, 'app'), (0.58187, 'downloads'), (0.565493, 'iphone'), (0.530003, 'download'), (0.520227, 'tablet'), (0.476174, 'downloaded'), (0.465632, 'mobile'), (0.46456, 'phones'), (0.451217, 'desktop')]\n",
      "The contribution of the word 'internet' in dimension 76 = 0.219569\n",
      "Following are the top words in dimension 76 along with their contributions\n",
      "[(0.820946, 'cellular'), (0.812991, 'subscriber'), (0.805606, 'verizon'), (0.799205, 'broadband'), (0.773197, 'subscribers'), (0.731094, 'telecom'), (0.643104, 'phone'), (0.629171, 'telecommunications'), (0.607908, 'phones'), (0.599588, 'dial')]\n",
      "The contribution of the word 'internet' in dimension 400 = 0.153195\n",
      "Following are the top words in dimension 400 along with their contributions\n",
      "[(0.749704, 'blog'), (0.741629, 'twitter'), (0.661032, 'blogs'), (0.547312, 'facebook'), (0.539311, 'updates'), (0.471941, 'myspace'), (0.410984, 'commentaries'), (0.402987, 'commentary'), (0.392474, 'articles'), (0.389951, 'forums')]\n",
      "The contribution of the word 'internet' in dimension 229 = 0.126808\n",
      "Following are the top words in dimension 229 along with their contributions\n",
      "[(0.561072, 'replay'), (0.526182, 'footage'), (0.509211, 'streaming'), (0.48119, 'broadcasts'), (0.464113, 'video'), (0.462744, 'telecast'), (0.450966, 'clips'), (0.44742, 'broadcast'), (0.442848, 'videos'), (0.43914, 'subtitles')]\n"
     ]
    }
   ],
   "source": [
    "visualize_online.find_top_participating_dimensions(\"internet\", 5)"
   ]
  },
  {
   "cell_type": "markdown",
   "metadata": {},
   "source": [
    "# spine embedding generated from 100-dim gloVe"
   ]
  },
  {
   "cell_type": "code",
   "execution_count": 3,
   "metadata": {},
   "outputs": [
    {
     "name": "stderr",
     "output_type": "stream",
     "text": [
      "100%|████████████████████████████████████| 15000/15000 [00:15<00:00, 943.89it/s]"
     ]
    },
    {
     "name": "stdout",
     "output_type": "stream",
     "text": [
      "Sparsity = 89.72781333333333\n",
      "done loading vectors\n"
     ]
    },
    {
     "name": "stderr",
     "output_type": "stream",
     "text": [
      "\n"
     ]
    }
   ],
   "source": [
    "# load SPINE vectors (available at https://tinyurl.com/SPINE-VECTORS)\n",
    "visualize_online.load_vectors(\"data100dim.txt\")"
   ]
  },
  {
   "cell_type": "code",
   "execution_count": 11,
   "metadata": {},
   "outputs": [
    {
     "name": "stderr",
     "output_type": "stream",
     "text": [
      "100%|████████████████████████████████████| 15000/15000 [00:15<00:00, 944.33it/s]"
     ]
    },
    {
     "name": "stdout",
     "output_type": "stream",
     "text": [
      "Sparsity = 89.72781333333333\n",
      "done loading vectors\n",
      " -----------------------------------------------------\n",
      "Word of interest =  intelligence\n",
      "The contribution of the word 'intelligence' in dimension 463 = 1.000000\n",
      "Following are the top words in dimension 463 along with their contributions\n",
      "[(1.0, 'was'), (1.0, 'to'), (1.0, 'the'), (1.0, 'that'), (1.0, 'on'), (1.0, 'of'), (1.0, 'in'), (1.0, 'for'), (1.0, 'and'), (1.0, 'a')]\n",
      "The contribution of the word 'intelligence' in dimension 869 = 0.668014\n",
      "Following are the top words in dimension 869 along with their contributions\n",
      "[(0.86469805, 'war'), (0.83048975, 'language'), (0.82881796, 'military'), (0.81639874, 'students'), (0.81526506, 'political'), (0.80816257, 'his'), (0.8049718, 'her'), (0.7974087, 'troops'), (0.7967696, 'speaking'), (0.7936704, 'religious')]\n",
      "The contribution of the word 'intelligence' in dimension 551 = 0.447766\n",
      "Following are the top words in dimension 551 along with their contributions\n",
      "[(0.80025774, 'data'), (0.712367, 'equipment'), (0.71176016, 'mechanical'), (0.70573896, 'physical'), (0.6806821, 'computer'), (0.67484933, 'fluid'), (0.6650082, 'breathing'), (0.6643735, 'mechanics'), (0.6584725, 'liquid'), (0.6578232, 'luggage')]\n",
      "The contribution of the word 'intelligence' in dimension 544 = 0.381709\n",
      "Following are the top words in dimension 544 along with their contributions\n",
      "[(0.67144644, 'brain'), (0.62515515, 'bone'), (0.5717817, 'genome'), (0.57112396, 'fractured'), (0.5523084, 'spinal'), (0.5291256, 'dinosaur'), (0.5239038, 'scan'), (0.5227695, 'rna'), (0.5166182, 'muscles'), (0.5143618, 'spectrum')]\n",
      "The contribution of the word 'intelligence' in dimension 992 = 0.347351\n",
      "Following are the top words in dimension 992 along with their contributions\n",
      "[(0.4266755, 'news'), (0.42188734, 'ale'), (0.41153428, 'of'), (0.40809348, 'crude'), (0.39871404, 'presenter'), (0.3908948, 'producer'), (0.3857067, 'afghan'), (0.3853361, 'rivalries'), (0.38137284, 'sports'), (0.37959105, 'refinery')]\n",
      " -----------------------------------------------------\n",
      "Word of interest =  science\n",
      "The contribution of the word 'science' in dimension 463 = 1.000000\n",
      "Following are the top words in dimension 463 along with their contributions\n",
      "[(1.0, 'was'), (1.0, 'to'), (1.0, 'the'), (1.0, 'that'), (1.0, 'on'), (1.0, 'of'), (1.0, 'in'), (1.0, 'for'), (1.0, 'and'), (1.0, 'a')]\n",
      "The contribution of the word 'science' in dimension 869 = 0.569018\n",
      "Following are the top words in dimension 869 along with their contributions\n",
      "[(0.86469805, 'war'), (0.83048975, 'language'), (0.82881796, 'military'), (0.81639874, 'students'), (0.81526506, 'political'), (0.80816257, 'his'), (0.8049718, 'her'), (0.7974087, 'troops'), (0.7967696, 'speaking'), (0.7936704, 'religious')]\n",
      "The contribution of the word 'science' in dimension 466 = 0.461960\n",
      "Following are the top words in dimension 466 along with their contributions\n",
      "[(0.62917334, 'matthew'), (0.62547445, 'islam'), (0.6115369, 'prophet'), (0.58658236, 'girls'), (0.57706445, 'conspiracy'), (0.56763554, 'college'), (0.5654101, 'islamic'), (0.54367864, 'shane'), (0.54049116, 'university'), (0.53506833, 'teachings')]\n",
      "The contribution of the word 'science' in dimension 551 = 0.330509\n",
      "Following are the top words in dimension 551 along with their contributions\n",
      "[(0.80025774, 'data'), (0.712367, 'equipment'), (0.71176016, 'mechanical'), (0.70573896, 'physical'), (0.6806821, 'computer'), (0.67484933, 'fluid'), (0.6650082, 'breathing'), (0.6643735, 'mechanics'), (0.6584725, 'liquid'), (0.6578232, 'luggage')]\n",
      "The contribution of the word 'science' in dimension 183 = 0.317086\n",
      "Following are the top words in dimension 183 along with their contributions\n",
      "[(0.5594615, 'federer'), (0.53081805, 'andersen'), (0.51710975, 'wimbledon'), (0.50655586, 'armistice'), (0.50611836, 'finalist'), (0.4777031, 'beatles'), (0.4742257, 'facts'), (0.4720664, 'ulster'), (0.47131974, 'masters'), (0.46970582, 'conceptual')]\n",
      " -----------------------------------------------------\n",
      "Word of interest =  residents\n",
      "The contribution of the word 'residents' in dimension 463 = 1.000000\n",
      "Following are the top words in dimension 463 along with their contributions\n",
      "[(1.0, 'was'), (1.0, 'to'), (1.0, 'the'), (1.0, 'that'), (1.0, 'on'), (1.0, 'of'), (1.0, 'in'), (1.0, 'for'), (1.0, 'and'), (1.0, 'a')]\n",
      "The contribution of the word 'residents' in dimension 869 = 0.562741\n",
      "Following are the top words in dimension 869 along with their contributions\n",
      "[(0.86469805, 'war'), (0.83048975, 'language'), (0.82881796, 'military'), (0.81639874, 'students'), (0.81526506, 'political'), (0.80816257, 'his'), (0.8049718, 'her'), (0.7974087, 'troops'), (0.7967696, 'speaking'), (0.7936704, 'religious')]\n",
      "The contribution of the word 'residents' in dimension 57 = 0.425558\n",
      "Following are the top words in dimension 57 along with their contributions\n",
      "[(0.6802267, 'toll'), (0.63596934, 'released'), (0.6302871, 'unemployment'), (0.6076101, 'grim'), (0.5865692, 'report'), (0.58329666, 'prisons'), (0.5793161, 'reported'), (0.5773655, 'transit'), (0.5720902, 'refugee'), (0.5698954, 'reports')]\n",
      "The contribution of the word 'residents' in dimension 292 = 0.315702\n",
      "Following are the top words in dimension 292 along with their contributions\n",
      "[(0.5362592, 'population'), (0.5191565, 'scoreboard'), (0.49917164, 'populations'), (0.49770728, 'occupancy'), (0.48458424, 'tents'), (0.48447505, 'rainfall'), (0.4806576, 'footage'), (0.47326884, 'sporadic'), (0.47142318, 'incorporates'), (0.46291003, 'densely')]\n",
      "The contribution of the word 'residents' in dimension 618 = 0.305339\n",
      "Following are the top words in dimension 618 along with their contributions\n",
      "[(0.69593966, 'located'), (0.6945901, 'district'), (0.6708719, 'canton'), (0.6563801, 'unincorporated'), (0.6515098, 'oblast'), (0.64047897, 'suburb'), (0.6389987, 'diocese'), (0.6177583, 'uttar'), (0.6140993, 'pradesh'), (0.6064239, 'situated')]\n"
     ]
    },
    {
     "name": "stderr",
     "output_type": "stream",
     "text": [
      "\n"
     ]
    }
   ],
   "source": [
    "visualize_online.load_vectors(\"data100dim.txt\")\n",
    "visualize_online.load_top_dimensions(10)\n",
    "visualize_online.find_top_participating_dimensions(\"intelligence\", 5)\n",
    "visualize_online.find_top_participating_dimensions(\"science\", 5)\n",
    "visualize_online.find_top_participating_dimensions(\"residents\", 5)"
   ]
  },
  {
   "cell_type": "code",
   "execution_count": 7,
   "metadata": {
    "scrolled": true
   },
   "outputs": [
    {
     "name": "stderr",
     "output_type": "stream",
     "text": [
      "100%|████████████████████████████████████| 15000/15000 [00:16<00:00, 914.59it/s]"
     ]
    },
    {
     "name": "stdout",
     "output_type": "stream",
     "text": [
      "Sparsity = 94.25645333333334\n",
      "done loading vectors\n",
      " -----------------------------------------------------\n",
      "Word of interest =  intelligence\n",
      "The contribution of the word 'intelligence' in dimension 734 = 0.969242\n",
      "Following are the top words in dimension 734 along with their contributions\n",
      "[(1.0, 'secretary'), (1.0, 'relations'), (1.0, 'political'), (1.0, 'law'), (1.0, 'jury'), (1.0, 'involved'), (1.0, 'insurance'), (1.0, 'foreign'), (1.0, 'civil'), (1.0, 'administrative')]\n",
      "The contribution of the word 'intelligence' in dimension 277 = 0.835721\n",
      "Following are the top words in dimension 277 along with their contributions\n",
      "[(1.0, 'total'), (1.0, 'television'), (1.0, 'region'), (1.0, 'points'), (1.0, 'october'), (1.0, 'media'), (1.0, 'information'), (1.0, 'history'), (1.0, 'country'), (1.0, 'british')]\n",
      "The contribution of the word 'intelligence' in dimension 27 = 0.796349\n",
      "Following are the top words in dimension 27 along with their contributions\n",
      "[(1.0, 'win'), (1.0, 'television'), (1.0, 'stadium'), (1.0, 'mail'), (1.0, 'lawyer'), (1.0, 'daily'), (1.0, 'annual'), (1.0, 'americans'), (1.0, 'american'), (1.0, '--')]\n",
      "The contribution of the word 'intelligence' in dimension 877 = 0.687551\n",
      "Following are the top words in dimension 877 along with their contributions\n",
      "[(1.0, 'win'), (1.0, 'total'), (1.0, 'team'), (1.0, 'road'), (1.0, 'points'), (1.0, 'lost'), (1.0, 'history'), (1.0, 'germany'), (1.0, 'german'), (1.0, 'american')]\n",
      "The contribution of the word 'intelligence' in dimension 825 = 0.648800\n",
      "Following are the top words in dimension 825 along with their contributions\n",
      "[(1.0, 'tournament'), (1.0, 'staff'), (1.0, 'scheduled'), (1.0, 'recorded'), (1.0, 'polls'), (1.0, 'online'), (1.0, 'interview'), (1.0, 'hotel'), (1.0, 'editor'), (1.0, 'cast')]\n",
      " -----------------------------------------------------\n",
      "Word of interest =  science\n",
      "The contribution of the word 'science' in dimension 394 = 0.961116\n",
      "Following are the top words in dimension 394 along with their contributions\n",
      "[(1.0, 'travel'), (1.0, 'sciences'), (1.0, 'review'), (1.0, 'publishing'), (1.0, 'proceedings'), (1.0, 'press'), (1.0, 'eds'), (1.0, 'ed'), (1.0, 'cheney'), (1.0, 'articles')]\n",
      "The contribution of the word 'science' in dimension 989 = 0.954481\n",
      "Following are the top words in dimension 989 along with their contributions\n",
      "[(1.0, 'venezuela'), (1.0, 'mining'), (1.0, 'law'), (1.0, 'gm'), (1.0, 'economists'), (1.0, 'economics'), (1.0, 'colombia'), (1.0, 'beijing'), (1.0, 'architecture'), (1.0, 'accounting')]\n",
      "The contribution of the word 'science' in dimension 999 = 0.711480\n",
      "Following are the top words in dimension 999 along with their contributions\n",
      "[(1.0, 'village'), (1.0, 'telephone'), (1.0, 'source'), (1.0, 'potential'), (1.0, 'population'), (1.0, 'personnel'), (1.0, 'navy'), (1.0, 'internet'), (1.0, 'census'), (1.0, 'airport')]\n",
      "The contribution of the word 'science' in dimension 254 = 0.673572\n",
      "Following are the top words in dimension 254 along with their contributions\n",
      "[(1.0, 'species'), (1.0, 'sources'), (1.0, 'match'), (1.0, '9'), (1.0, '6'), (1.0, '19'), (1.0, '18'), (1.0, '16'), (1.0, '11'), (1.0, '10')]\n",
      "The contribution of the word 'science' in dimension 901 = 0.671730\n",
      "Following are the top words in dimension 901 along with their contributions\n",
      "[(1.0, 'three'), (1.0, 'president'), (1.0, 'nations'), (1.0, 'nation'), (1.0, 'left'), (1.0, 'four'), (1.0, 'five'), (1.0, 'february'), (1.0, '15'), (1.0, '14')]\n",
      " -----------------------------------------------------\n",
      "Word of interest =  residents\n",
      "The contribution of the word 'residents' in dimension 357 = 0.842695\n",
      "Following are the top words in dimension 357 along with their contributions\n",
      "[(1.0, 'senators'), (1.0, 'officials'), (1.0, 'ministers'), (1.0, 'democratic'), (1.0, 'coast'), (1.0, 'christian'), (1.0, 'changes'), (1.0, 'appearances'), (1.0, 'albums'), (1.0, 'adults')]\n",
      "The contribution of the word 'residents' in dimension 816 = 0.778871\n",
      "Following are the top words in dimension 816 along with their contributions\n",
      "[(1.0, 'war'), (1.0, 'run'), (1.0, 'population'), (1.0, 'november'), (1.0, 'german'), (1.0, 'french'), (1.0, 'final'), (1.0, 'enough'), (1.0, 'deal'), (1.0, '6')]\n",
      "The contribution of the word 'residents' in dimension 326 = 0.629583\n",
      "Following are the top words in dimension 326 along with their contributions\n",
      "[(1.0, 'temple'), (1.0, 'ohio'), (1.0, 'lebanese'), (1.0, 'joseph'), (1.0, 'jose'), (1.0, 'joe'), (1.0, 'houston'), (1.0, 'francisco'), (1.0, 'chris'), (1.0, 'bishop')]\n",
      "The contribution of the word 'residents' in dimension 999 = 0.563764\n",
      "Following are the top words in dimension 999 along with their contributions\n",
      "[(1.0, 'village'), (1.0, 'telephone'), (1.0, 'source'), (1.0, 'potential'), (1.0, 'population'), (1.0, 'personnel'), (1.0, 'navy'), (1.0, 'internet'), (1.0, 'census'), (1.0, 'airport')]\n",
      "The contribution of the word 'residents' in dimension 892 = 0.547316\n",
      "Following are the top words in dimension 892 along with their contributions\n",
      "[(1.0, 'roads'), (1.0, 'nights'), (1.0, 'care'), (1.0, 'banks'), (0.99511135, 'watches'), (0.9792694, 'statistics'), (0.9765979, 'fans'), (0.95631623, 'runs'), (0.94974446, 'clothes'), (0.9388703, 'knows')]\n"
     ]
    },
    {
     "name": "stderr",
     "output_type": "stream",
     "text": [
      "\n"
     ]
    }
   ],
   "source": [
    "visualize_online.load_vectors(\"bert_4000.txt\")\n",
    "visualize_online.load_top_dimensions(10)\n",
    "visualize_online.find_top_participating_dimensions(\"intelligence\", 5)\n",
    "visualize_online.find_top_participating_dimensions(\"science\", 5)\n",
    "visualize_online.find_top_participating_dimensions(\"residents\", 5)"
   ]
  },
  {
   "cell_type": "markdown",
   "metadata": {},
   "source": [
    "# Model  with encoder having  2 FC  layer with (500 and 1000 hidden neurons resp.)"
   ]
  },
  {
   "cell_type": "code",
   "execution_count": 8,
   "metadata": {},
   "outputs": [
    {
     "name": "stderr",
     "output_type": "stream",
     "text": [
      "100%|████████████████████████████████████| 15000/15000 [00:15<00:00, 952.14it/s]"
     ]
    },
    {
     "name": "stdout",
     "output_type": "stream",
     "text": [
      "Sparsity = 99.45008666666666\n",
      "done loading vectors\n",
      " -----------------------------------------------------\n",
      "Word of interest =  intelligence\n",
      "The contribution of the word 'intelligence' in dimension 299 = 0.526745\n",
      "Following are the top words in dimension 299 along with their contributions\n",
      "[(0.75183785, 'our'), (0.73675376, 'any'), (0.7353241, 'more'), (0.7280482, 'their'), (0.7262765, 'we'), (0.7250087, 'have'), (0.7135651, 'countries'), (0.71004903, 'be'), (0.7046013, 'not'), (0.7038128, 'are')]\n",
      "The contribution of the word 'intelligence' in dimension 959 = 0.490835\n",
      "Following are the top words in dimension 959 along with their contributions\n",
      "[(0.78015846, 'district'), (0.7382973, 'county'), (0.73435134, 'town'), (0.6977316, 'village'), (0.6976719, 'south'), (0.69195265, 'located'), (0.69189113, 'central'), (0.69155616, 'north'), (0.6889391, 'province'), (0.68886137, 'northern')]\n",
      "The contribution of the word 'intelligence' in dimension 270 = 0.362930\n",
      "Following are the top words in dimension 270 along with their contributions\n",
      "[(0.58780205, 'he'), (0.58105844, 'was'), (0.5774313, 'at'), (0.57718945, 'with'), (0.57685006, 'an'), (0.57182944, 'as'), (0.5694239, 'for'), (0.5682541, 'when'), (0.56812656, 'john'), (0.5680464, 'it')]\n",
      "The contribution of the word 'intelligence' in dimension 825 = 0.213915\n",
      "Following are the top words in dimension 825 along with their contributions\n",
      "[(0.5952785, 'said'), (0.5767116, 'spokesman'), (0.52141607, 'analyst'), (0.50101936, 'maj.'), (0.4862661, 'told'), (0.48422074, 'col.'), (0.47403938, 'dr.'), (0.4713328, 'minister'), (0.4623903, 'director'), (0.46145836, 'economist')]\n",
      "The contribution of the word 'intelligence' in dimension 712 = 0.047478\n",
      "Following are the top words in dimension 712 along with their contributions\n",
      "[(0.610988, 'cents'), (0.60761195, 'billion'), (0.58352315, 'dollars'), (0.55265296, 'pesos'), (0.5440571, 'percent'), (0.5419289, 'points'), (0.5412243, 'million'), (0.52373457, 'yen'), (0.5146968, 'francs'), (0.49386385, 'hk')]\n",
      " -----------------------------------------------------\n",
      "Word of interest =  science\n",
      "The contribution of the word 'science' in dimension 959 = 0.503708\n",
      "Following are the top words in dimension 959 along with their contributions\n",
      "[(0.78015846, 'district'), (0.7382973, 'county'), (0.73435134, 'town'), (0.6977316, 'village'), (0.6976719, 'south'), (0.69195265, 'located'), (0.69189113, 'central'), (0.69155616, 'north'), (0.6889391, 'province'), (0.68886137, 'northern')]\n",
      "The contribution of the word 'science' in dimension 299 = 0.446613\n",
      "Following are the top words in dimension 299 along with their contributions\n",
      "[(0.75183785, 'our'), (0.73675376, 'any'), (0.7353241, 'more'), (0.7280482, 'their'), (0.7262765, 'we'), (0.7250087, 'have'), (0.7135651, 'countries'), (0.71004903, 'be'), (0.7046013, 'not'), (0.7038128, 'are')]\n",
      "The contribution of the word 'science' in dimension 270 = 0.395903\n",
      "Following are the top words in dimension 270 along with their contributions\n",
      "[(0.58780205, 'he'), (0.58105844, 'was'), (0.5774313, 'at'), (0.57718945, 'with'), (0.57685006, 'an'), (0.57182944, 'as'), (0.5694239, 'for'), (0.5682541, 'when'), (0.56812656, 'john'), (0.5680464, 'it')]\n",
      "The contribution of the word 'science' in dimension 825 = 0.136427\n",
      "Following are the top words in dimension 825 along with their contributions\n",
      "[(0.5952785, 'said'), (0.5767116, 'spokesman'), (0.52141607, 'analyst'), (0.50101936, 'maj.'), (0.4862661, 'told'), (0.48422074, 'col.'), (0.47403938, 'dr.'), (0.4713328, 'minister'), (0.4623903, 'director'), (0.46145836, 'economist')]\n",
      "The contribution of the word 'science' in dimension 592 = 0.112731\n",
      "Following are the top words in dimension 592 along with their contributions\n",
      "[(0.8561978, 'genus'), (0.8037467, 'enzyme'), (0.7873987, 'protein'), (0.78626156, 'vector'), (0.77516246, 'snail'), (0.7540237, 'fungi'), (0.75305533, 'proteins'), (0.7450343, 'enzymes'), (0.7378669, 'subspecies'), (0.73251426, 'dorsal')]\n",
      " -----------------------------------------------------\n",
      "Word of interest =  residents\n",
      "The contribution of the word 'residents' in dimension 959 = 0.542276\n",
      "Following are the top words in dimension 959 along with their contributions\n",
      "[(0.78015846, 'district'), (0.7382973, 'county'), (0.73435134, 'town'), (0.6977316, 'village'), (0.6976719, 'south'), (0.69195265, 'located'), (0.69189113, 'central'), (0.69155616, 'north'), (0.6889391, 'province'), (0.68886137, 'northern')]\n",
      "The contribution of the word 'residents' in dimension 299 = 0.482383\n",
      "Following are the top words in dimension 299 along with their contributions\n",
      "[(0.75183785, 'our'), (0.73675376, 'any'), (0.7353241, 'more'), (0.7280482, 'their'), (0.7262765, 'we'), (0.7250087, 'have'), (0.7135651, 'countries'), (0.71004903, 'be'), (0.7046013, 'not'), (0.7038128, 'are')]\n",
      "The contribution of the word 'residents' in dimension 270 = 0.389425\n",
      "Following are the top words in dimension 270 along with their contributions\n",
      "[(0.58780205, 'he'), (0.58105844, 'was'), (0.5774313, 'at'), (0.57718945, 'with'), (0.57685006, 'an'), (0.57182944, 'as'), (0.5694239, 'for'), (0.5682541, 'when'), (0.56812656, 'john'), (0.5680464, 'it')]\n",
      "The contribution of the word 'residents' in dimension 825 = 0.093840\n",
      "Following are the top words in dimension 825 along with their contributions\n",
      "[(0.5952785, 'said'), (0.5767116, 'spokesman'), (0.52141607, 'analyst'), (0.50101936, 'maj.'), (0.4862661, 'told'), (0.48422074, 'col.'), (0.47403938, 'dr.'), (0.4713328, 'minister'), (0.4623903, 'director'), (0.46145836, 'economist')]\n",
      "The contribution of the word 'residents' in dimension 712 = 0.085793\n",
      "Following are the top words in dimension 712 along with their contributions\n",
      "[(0.610988, 'cents'), (0.60761195, 'billion'), (0.58352315, 'dollars'), (0.55265296, 'pesos'), (0.5440571, 'percent'), (0.5419289, 'points'), (0.5412243, 'million'), (0.52373457, 'yen'), (0.5146968, 'francs'), (0.49386385, 'hk')]\n"
     ]
    },
    {
     "name": "stderr",
     "output_type": "stream",
     "text": [
      "\n"
     ]
    }
   ],
   "source": [
    "visualize_online.load_vectors(\"2dspine.txt\")\n",
    "visualize_online.load_top_dimensions(10)\n",
    "visualize_online.find_top_participating_dimensions(\"intelligence\", 5)\n",
    "visualize_online.find_top_participating_dimensions(\"science\", 5)\n",
    "visualize_online.find_top_participating_dimensions(\"residents\", 5)"
   ]
  },
  {
   "cell_type": "code",
   "execution_count": 9,
   "metadata": {},
   "outputs": [
    {
     "name": "stdout",
     "output_type": "stream",
     "text": [
      " -----------------------------------------------------\n",
      "Word of interest =  mountain\n",
      "The contribution of the word 'mountain' in dimension 959 = 0.559221\n",
      "Following are the top words in dimension 959 along with their contributions\n",
      "[(0.78015846, 'district'), (0.7382973, 'county'), (0.73435134, 'town'), (0.6977316, 'village'), (0.6976719, 'south'), (0.69195265, 'located'), (0.69189113, 'central'), (0.69155616, 'north'), (0.6889391, 'province'), (0.68886137, 'northern')]\n",
      "The contribution of the word 'mountain' in dimension 299 = 0.378568\n",
      "Following are the top words in dimension 299 along with their contributions\n",
      "[(0.75183785, 'our'), (0.73675376, 'any'), (0.7353241, 'more'), (0.7280482, 'their'), (0.7262765, 'we'), (0.7250087, 'have'), (0.7135651, 'countries'), (0.71004903, 'be'), (0.7046013, 'not'), (0.7038128, 'are')]\n",
      "The contribution of the word 'mountain' in dimension 270 = 0.371551\n",
      "Following are the top words in dimension 270 along with their contributions\n",
      "[(0.58780205, 'he'), (0.58105844, 'was'), (0.5774313, 'at'), (0.57718945, 'with'), (0.57685006, 'an'), (0.57182944, 'as'), (0.5694239, 'for'), (0.5682541, 'when'), (0.56812656, 'john'), (0.5680464, 'it')]\n",
      "The contribution of the word 'mountain' in dimension 592 = 0.220511\n",
      "Following are the top words in dimension 592 along with their contributions\n",
      "[(0.8561978, 'genus'), (0.8037467, 'enzyme'), (0.7873987, 'protein'), (0.78626156, 'vector'), (0.77516246, 'snail'), (0.7540237, 'fungi'), (0.75305533, 'proteins'), (0.7450343, 'enzymes'), (0.7378669, 'subspecies'), (0.73251426, 'dorsal')]\n",
      "The contribution of the word 'mountain' in dimension 825 = 0.057989\n",
      "Following are the top words in dimension 825 along with their contributions\n",
      "[(0.5952785, 'said'), (0.5767116, 'spokesman'), (0.52141607, 'analyst'), (0.50101936, 'maj.'), (0.4862661, 'told'), (0.48422074, 'col.'), (0.47403938, 'dr.'), (0.4713328, 'minister'), (0.4623903, 'director'), (0.46145836, 'economist')]\n"
     ]
    }
   ],
   "source": [
    "visualize_online.find_top_participating_dimensions(\"mountain\", 5)"
   ]
  },
  {
   "cell_type": "code",
   "execution_count": null,
   "metadata": {},
   "outputs": [],
   "source": []
  }
 ],
 "metadata": {
  "kernelspec": {
   "display_name": "Python 3 (ipykernel)",
   "language": "python",
   "name": "python3"
  },
  "language_info": {
   "codemirror_mode": {
    "name": "ipython",
    "version": 3
   },
   "file_extension": ".py",
   "mimetype": "text/x-python",
   "name": "python",
   "nbconvert_exporter": "python",
   "pygments_lexer": "ipython3",
   "version": "3.9.7"
  }
 },
 "nbformat": 4,
 "nbformat_minor": 2
}
